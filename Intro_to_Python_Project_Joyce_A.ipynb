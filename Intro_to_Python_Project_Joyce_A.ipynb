{
  "nbformat": 4,
  "nbformat_minor": 0,
  "metadata": {
    "colab": {
      "name": "Intro to Python Project-Joyce A.ipynb",
      "provenance": [],
      "collapsed_sections": []
    },
    "kernelspec": {
      "name": "python3",
      "display_name": "Python 3"
    },
    "language_info": {
      "name": "python"
    }
  },
  "cells": [
    {
      "cell_type": "code",
      "metadata": {
        "id": "dhCVPbwsxoia"
      },
      "source": [
        "#Step 1: define a function that calculates the total bill. The function ensures input must be in the form of a dictionary. \n",
        "#Step 2: the if statement ensures the input must be in the form of a dictionary and also ensures both minutes and text values must be inserted\n",
        "def calcBill(dd):\n",
        "  if type(dd)!=dict:\n",
        "    print('This is not a dictionary')\n",
        "  if \"minutes\" not in dd:\n",
        "    print(\"minutes values missing\") \n",
        "  if not (\"texts\" in dd):\n",
        "    print('text values missing')\n",
        "  \n",
        "  # Step 3: Define the variables that contain arithmetic operators to be used to calculate the customers bill and return the total value\n",
        "  basecharge = 10\n",
        "  no_of_minutes = dd['minutes']  \n",
        "  no_of_texts = dd['texts']\n",
        "  base_minutes = 200\n",
        "  base_texts= 200\n",
        "  extra_minutes = no_of_minutes - base_minutes\n",
        "  extra_texts = no_of_texts - base_texts\n",
        "  extra_charges = extra_minutes*0.03 + extra_texts*0.001\n",
        "  total_charge = basecharge + extra_charges\n",
        "  total_tax = total_charge*0.14\n",
        "  total_bill = total_charge + total_tax\n",
        "\n",
        "#step 4: define a variable that returns the customers bill in the form of an SMS and displays the charges in 2 decimal places \n",
        "  sms='Dear customer,your subscription charge for the month is {:.2f}. Additional messages used are {:.2f} and additional minutes used are {:.2f}. Tax charged is {:.2f} and your total bill is {:.2f}'.format(basecharge, extra_texts, extra_minutes, total_tax, total_bill)\n",
        "  return sms"
      ],
      "execution_count": null,
      "outputs": []
    },
    {
      "cell_type": "code",
      "metadata": {
        "colab": {
          "base_uri": "https://localhost:8080/",
          "height": 53
        },
        "id": "3kv52iOQ5Rvs",
        "outputId": "d1f78aba-b371-4c16-fbe1-100da379a8bb"
      },
      "source": [
        "test_dd = {\"minutes\": 232,\"texts\":300}\n",
        "calcBill(test_dd)"
      ],
      "execution_count": null,
      "outputs": [
        {
          "output_type": "execute_result",
          "data": {
            "application/vnd.google.colaboratory.intrinsic+json": {
              "type": "string"
            },
            "text/plain": [
              "'Dear customer,your subscription charge for the month is 10.00. Additional messages used are 100.00 and additional minutes used are 32.00. Tax charged is 1.55 and your total bill is 12.61'"
            ]
          },
          "metadata": {
            "tags": []
          },
          "execution_count": 4
        }
      ]
    }
  ]
}